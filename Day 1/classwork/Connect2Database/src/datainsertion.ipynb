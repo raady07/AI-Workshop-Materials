{
 "cells": [
  {
   "cell_type": "code",
   "execution_count": 1,
   "metadata": {},
   "outputs": [],
   "source": [
    "from config import CONFIG\n",
    "from storageutils import MySQLManager"
   ]
  },
  {
   "cell_type": "code",
   "execution_count": 4,
   "metadata": {},
   "outputs": [],
   "source": [
    "query = 'insert into students values(\"{}\", \"{}\", \"{}\", {}, \"{}\", \"{}\");'.format(\"suresh\", \"34\", \"male\", 3, \"ece\", \"2020\")\n",
    "try:\n",
    "    res = MySQLManager.execute_query(query, None, **CONFIG['database']['gnits'])\n",
    "except Exception as error:\n",
    "    print(error)"
   ]
  },
  {
   "cell_type": "code",
   "execution_count": 7,
   "metadata": {},
   "outputs": [],
   "source": [
    "query = 'update students set study_year = {} where studentname = \"{}\";'.format(4, \"suresh\")\n",
    "try:\n",
    "    res = MySQLManager.execute_query(query, None, **CONFIG['database']['gnits'])\n",
    "except Exception as error:\n",
    "    print(error)"
   ]
  },
  {
   "cell_type": "code",
   "execution_count": 9,
   "metadata": {},
   "outputs": [
    {
     "data": {
      "text/plain": [
       "2"
      ]
     },
     "execution_count": 9,
     "metadata": {},
     "output_type": "execute_result"
    }
   ],
   "source": [
    "query =  'select count(*) as total from students;'\n",
    "\n",
    "try:\n",
    "    res = MySQLManager.execute_query(query, None, **CONFIG['database']['gnits'])\n",
    "    res = res[0]['total']\n",
    "except Exception as error:\n",
    "    print(error)\n",
    "\n",
    "res"
   ]
  },
  {
   "cell_type": "code",
   "execution_count": null,
   "metadata": {},
   "outputs": [],
   "source": [
    "# csv\n",
    "# studentname | rollnumber | study_year | gender | course | joined year \n",
    "# \"kumar\"     | \"32\"       | 3          | \"male\" | \"cse\"  | \"2020\"\n",
    "\n",
    "# mydata = [row for row in csv.reader(open(filename))]\n",
    "\n",
    "# # json\n",
    "# mydata = json.load(open(filename))\n",
    "# mydata = [\n",
    "#     {\n",
    "#             \"studentname\": \"kumar\",\n",
    "#             \"rollnumber\": \"1232\",\n",
    "#             \"study_year\": 4,\n",
    "#             \"gender\": \"male\",            \n",
    "#             \"course\": \"cse\",\n",
    "#             \"joinedyear\": \"2023\"\n",
    "#         }\n",
    "# ]"
   ]
  },
  {
   "cell_type": "code",
   "execution_count": 22,
   "metadata": {},
   "outputs": [],
   "source": [
    "from faker import Faker\n",
    "import numpy as np\n",
    "import random\n",
    "\n",
    "fake = Faker()\n",
    "fixed_digits = 6\n",
    "courses_list = ['Computer science', 'Mechanical', 'Chemical', 'Electronics and Communications']\n",
    "\n",
    "def faker_data_generator(num=1, study_year=1, seed=None):\n",
    "    fake.seed_instance(seed)\n",
    "    output = []\n",
    "    for x in range(num):\n",
    "      gender = np.random.choice([\"Male\", \"Female\"], p=[0.5, 0.5])\n",
    "      given_name = fake.first_name_male() if gender==\"Male\" else fake.first_name_female()\n",
    "      surname = fake.last_name()\n",
    "      generated_name = given_name + ' ' + surname\n",
    "      output.append(\n",
    "        {\n",
    "            \"studentname\": generated_name,\n",
    "            \"rollnumber\": x + 300,\n",
    "            \"study_year\": study_year,\n",
    "            \"gender\": gender,            \n",
    "            \"course\": random.choice(courses_list) + ' ' + \"Engineering\",\n",
    "            \"joinedyear\": 2023\n",
    "        }\n",
    "      )\n",
    "    return output"
   ]
  },
  {
   "cell_type": "code",
   "execution_count": 23,
   "metadata": {},
   "outputs": [
    {
     "data": {
      "text/plain": [
       "49"
      ]
     },
     "execution_count": 23,
     "metadata": {},
     "output_type": "execute_result"
    }
   ],
   "source": [
    "students_data = faker_data_generator(250, 2)\n",
    "table = 'students'\n",
    "cols = ['studentname', 'rollnumber', 'study_year', 'gender', 'course', 'joinedyear']\n",
    "data = []\n",
    "for item in students_data:\n",
    "    x = {}\n",
    "    x['studentname'] = item['studentname']\n",
    "    x['rollnumber'] = str(item['rollnumber'])\n",
    "    x['study_year'] = item['study_year']\n",
    "    x['gender'] = item['gender']\n",
    "    x['course'] = item['course']\n",
    "    x['joinedyear'] = item['joinedyear']\n",
    "    data.append(x)\n",
    "    if len(data) > 200:\n",
    "        MySQLManager.bulk_insert(table, cols, data, **CONFIG[\"database\"][\"gnits\"])\n",
    "        data = []\n",
    "MySQLManager.bulk_insert(table, cols, data, **CONFIG[\"database\"][\"gnits\"])"
   ]
  }
 ],
 "metadata": {
  "kernelspec": {
   "display_name": ".venv",
   "language": "python",
   "name": "python3"
  },
  "language_info": {
   "codemirror_mode": {
    "name": "ipython",
    "version": 3
   },
   "file_extension": ".py",
   "mimetype": "text/x-python",
   "name": "python",
   "nbconvert_exporter": "python",
   "pygments_lexer": "ipython3",
   "version": "3.8.10"
  },
  "orig_nbformat": 4,
  "vscode": {
   "interpreter": {
    "hash": "e8a760856e57e9f97f12f88cbee7fe63b117f8986aa6834654b7f89e7500cbc8"
   }
  }
 },
 "nbformat": 4,
 "nbformat_minor": 2
}
