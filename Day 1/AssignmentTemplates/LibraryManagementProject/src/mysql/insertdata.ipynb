{
 "cells": [
  {
   "cell_type": "code",
   "execution_count": null,
   "metadata": {},
   "outputs": [],
   "source": [
    "import json\n",
    "from utils.storageutils import MySQLManager\n",
    "from utils.config import CONFIG\n",
    "from utils.config import booksdata"
   ]
  },
  {
   "cell_type": "code",
   "execution_count": null,
   "metadata": {},
   "outputs": [],
   "source": [
    "table = '' # use the table name which you created\n",
    "cols = [] # update the col names\n",
    "data = []\n",
    "for item in booksdata:\n",
    "    x = {}\n",
    "    # update the X with data in required format\n",
    "    data.append(x)\n",
    "    if len(data) > 200:\n",
    "        MySQLManager.bulk_insert(table, cols, data, **CONFIG[\"database\"][\"gnitsstudents\"])\n",
    "        data = []\n",
    "MySQLManager.bulk_insert(table, cols, data, **CONFIG[\"database\"][\"gnitsstudents\"])"
   ]
  }
 ],
 "metadata": {
  "kernelspec": {
   "display_name": "Python 3",
   "language": "python",
   "name": "python3"
  },
  "language_info": {
   "name": "python",
   "version": "3.8.10 (default, Nov 14 2022, 12:59:47) \n[GCC 9.4.0]"
  },
  "orig_nbformat": 4,
  "vscode": {
   "interpreter": {
    "hash": "31f2aee4e71d21fbe5cf8b01ff0e069b9275f58929596ceb00d14d90e3e16cd6"
   }
  }
 },
 "nbformat": 4,
 "nbformat_minor": 2
}
